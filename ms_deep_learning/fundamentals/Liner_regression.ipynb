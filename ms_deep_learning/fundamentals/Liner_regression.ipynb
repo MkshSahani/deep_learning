{
 "cells": [
  {
   "cell_type": "code",
   "execution_count": 4,
   "metadata": {},
   "outputs": [],
   "source": [
    "# generating the linear model for prediction. \n",
    "\n",
    "import numpy as np \n",
    "import matplotlib.pyplot as plt \n",
    "\n",
    "def init_weight(input_): \n",
    "    weights = {}\n",
    "    weights['W'] = np.random.rand(input_.shape[1], 1)\n",
    "    weights['B'] = np.random.randn(1,input_.shape[1])\n",
    "    return weights \n",
    "    "
   ]
  },
  {
   "cell_type": "code",
   "execution_count": 18,
   "metadata": {},
   "outputs": [],
   "source": [
    "def forward_pass(input_, output_, weights): \n",
    "    N = np.dot(input_, weights['W'])\n",
    "    P = N + weights['B']\n",
    "    L = np.mean(np.power(output_ - P, 2))\n",
    "    forward_info = {}\n",
    "    forward_info['N'] = N \n",
    "    forward_info['X'] = input_ \n",
    "    forward_info['Y'] = output_ \n",
    "    forward_info['P'] = P \n",
    "    forward_info['L'] = L \n",
    "    \n",
    "    return forward_info "
   ]
  },
  {
   "cell_type": "code",
   "execution_count": 10,
   "metadata": {},
   "outputs": [],
   "source": [
    "def loss_gradients(forward_info, weights): \n",
    "    dLdP = -2 * (forward_info['Y'] - forward_info['P'])\n",
    "    dLdB = np.ones_like(weights['B'])\n",
    "    dLdB = (dLdB*dLdP).sum(axis = 0)\n",
    "    \n",
    "    dPdN = np.ones_like(forward_info['N'])\n",
    "    dLdN = dLdP*dPdN \n",
    "    \n",
    "    dNdW = np.transpose(forward_info['X'],(1, 0))\n",
    "    dLdW = np.dot(dNdW, dLdN)\n",
    "    loss_grad = {}\n",
    "    loss_grad['W'] = dLdW \n",
    "    loss_grad['B'] = dLdB \n",
    "    \n",
    "    return loss_grad \n",
    "    "
   ]
  },
  {
   "cell_type": "code",
   "execution_count": 13,
   "metadata": {},
   "outputs": [],
   "source": [
    "def train(input_, output_, seed = 2000, learning_rate = 0.001): \n",
    "    weights =  init_weight(input_) \n",
    "    for i in range(0, seed): \n",
    "        forward_info = forward_pass(input_, output_, weights) \n",
    "        loss_grand = loss_gradients(forward_info, weights)\n",
    "        for key in loss_grand.keys():  \n",
    "            weights[key] -= learning_rate * loss_grand[key]\n",
    "    return weights "
   ]
  },
  {
   "cell_type": "code",
   "execution_count": 15,
   "metadata": {},
   "outputs": [],
   "source": [
    "def predict(input_, weights): \n",
    "    return np.dot(input_, weights['W']) + weights['B']\n"
   ]
  },
  {
   "cell_type": "code",
   "execution_count": 30,
   "metadata": {},
   "outputs": [
    {
     "name": "stdout",
     "output_type": "stream",
     "text": [
      "{'W': array([[-2.21212504]]), 'B': array([[-0.54543052]])}\n"
     ]
    },
    {
     "data": {
      "image/png": "[encoded data removed]",
      "text/plain": [
       "<Figure size 432x288 with 1 Axes>"
      ]
     },
     "metadata": {
      "needs_background": "light"
     },
     "output_type": "display_data"
    }
   ],
   "source": [
    "data = [[i] for i in range(0, 10)]\n",
    "data2 = [[-1 * (i*2 - 2)] if i % 2 == 0 else [-1  * (i*2 + 5)] for i in range(0, 10)]\n",
    "data = np.array(data)\n",
    "data2 = np.array(data2)\n",
    "weights = train(data, data2)\n",
    "print(weights)\n",
    "plt.scatter(data, data2)\n",
    "data2 = predict(data, weights)\n",
    "plt.plot(data, data2,'r')\n",
    "plt.show()\n"
   ]
  },
  {
   "cell_type": "code",
   "execution_count": null,
   "metadata": {},
   "outputs": [],
   "source": []
  }
 ],
 "metadata": {
  "kernelspec": {
   "display_name": "Python 3",
   "language": "python",
   "name": "python3"
  },
  "language_info": {
   "codemirror_mode": {
    "name": "ipython",
    "version": 3
   },
   "file_extension": ".py",
   "mimetype": "text/x-python",
   "name": "python",
   "nbconvert_exporter": "python",
   "pygments_lexer": "ipython3",
   "version": "3.6.9"
  }
 },
 "nbformat": 4,
 "nbformat_minor": 4
}
