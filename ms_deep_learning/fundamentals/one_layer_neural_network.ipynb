{
 "cells": [
  {
   "cell_type": "code",
   "execution_count": 1,
   "metadata": {},
   "outputs": [],
   "source": [
    "import numpy as np"
   ]
  },
  {
   "cell_type": "code",
   "execution_count": 8,
   "metadata": {},
   "outputs": [],
   "source": [
    "import matplotlib.pyplot as plt"
   ]
  },
  {
   "cell_type": "code",
   "execution_count": 35,
   "metadata": {},
   "outputs": [],
   "source": [
    "def sigmoid(x): \n",
    "    return 1/(1 + np.exp(-x))\n",
    "\n",
    "\n",
    "def init_weights(input_, hidden_features): \n",
    "    weights = {}\n",
    "    weights['W1'] = np.random.rand(input_.shape[1], hidden_features) \n",
    "    weights['B1'] = np.random.rand(1, hidden_features)\n",
    "    weights['W2'] = np.random.rand(hidden_features, 1)\n",
    "    weights['B2'] = np.random.rand(1, 1)\n",
    "    return weights "
   ]
  },
  {
   "cell_type": "code",
   "execution_count": 33,
   "metadata": {},
   "outputs": [],
   "source": [
    "def forward_pass(input_, output_, weights): \n",
    "    M1 = np.dot(input_,weights['W1'])\n",
    "    N1 = M1 + weights['B1']\n",
    "    O1 = sigmoid(N1)\n",
    "    M2 = np.dot(O1, weights['W2'])\n",
    "    P = M2 + weights['B2']\n",
    "    L = np.mean(np.power(output_ - P, 2))\n",
    "    forward_info = {}\n",
    "    forward_info['M1'] = M1 \n",
    "    forward_info['N1'] = N1 \n",
    "    forward_info['O1'] = O1 \n",
    "    forward_info['M2'] = M2 \n",
    "    forward_info['P'] = P \n",
    "    forward_info['L'] = L \n",
    "    forward_info['X'] = input_ \n",
    "    forward_info['Y'] = output_ \n",
    "    return forward_info"
   ]
  },
  {
   "cell_type": "code",
   "execution_count": 39,
   "metadata": {},
   "outputs": [],
   "source": [
    "def loss_gradients(forward_info,weights): \n",
    "    dLdP = -2 * (forward_info['Y'] - forward_info['P'])\n",
    "    dPdB2 = np.ones_like(weights['B2'])\n",
    "    dLdB2 = (dLdP*dPdB2).sum(axis = 0)\n",
    "    \n",
    "    dPdM2 = np.ones_like(forward_info['M2'])\n",
    "    dM2dW2 = np.transpose(forward_info['O1'], (1, 0))\n",
    "    \n",
    "    dLdM2 = dLdP * dPdM2 \n",
    "    dLdW2 = np.dot(dM2dW2, dLdM2)\n",
    "    \n",
    "    \n",
    "    dM2dO1 =  np.transpose(weights['W2'], (1, 0))\n",
    "    dO1dN1 = sigmoid(forward_info['N1'])*(1 - sigmoid(forward_info['N1']))\n",
    "    dN1dB1 = np.ones_like(weights['B1'])\n",
    "    \n",
    "    dLdO1 = np.dot(dLdM2, dM2dO1)\n",
    "    dLdN1 = dLdO1 * dO1dN1 \n",
    "    dLdB1 = (dLdN1 * dN1dB1).sum(axis = 0)\n",
    "    \n",
    "    \n",
    "    dN1dM1 = np.ones_like(forward_info['M1'])\n",
    "    dM1dW1 = np.transpose(forward_info['X'], (1, 0))\n",
    "    \n",
    "    dLdM1 = dLdN1 * dN1dM1 \n",
    "    \n",
    "    dLdW1 = np.dot(dM1dW1, dLdM1)\n",
    "    \n",
    "    loss_grand = {}\n",
    "    \n",
    "    loss_grand['B1'] = dLdB1 \n",
    "    loss_grand['B2'] = dLdB2 \n",
    "    loss_grand['W1'] = dLdW1 \n",
    "    loss_grand['W2'] = dLdW2 \n",
    "    \n",
    "    return loss_grand \n",
    "    \n",
    "    "
   ]
  },
  {
   "cell_type": "code",
   "execution_count": 31,
   "metadata": {},
   "outputs": [],
   "source": [
    "def train(input_, output_, seed = 2000, learning_rate =  0.001): \n",
    "    weights = init_weights(input_, 4)\n",
    "    for i in range(seed): \n",
    "        forward_info = forward_pass(input_, output_, weights)\n",
    "        loss_grand = loss_gradients(forward_info, weights) \n",
    "        for key in loss_grand.keys(): \n",
    "            weights[key] -= learning_rate * loss_grand[key]\n",
    "    return weights \n"
   ]
  },
  {
   "cell_type": "code",
   "execution_count": 22,
   "metadata": {},
   "outputs": [],
   "source": [
    "def predict(input_, weights): \n",
    "    return np.dot((sigmoid(np.dot(input_, weights['W1']) + weights['B1']), weights['W2'])) + weights['B2']"
   ]
  },
  {
   "cell_type": "code",
   "execution_count": 48,
   "metadata": {},
   "outputs": [
    {
     "name": "stdout",
     "output_type": "stream",
     "text": [
      "{'W1': array([[ 1.05699964, -0.61595507,  2.32289928, -0.11939263],\n",
      "       [ 0.45341692,  1.41644325,  0.45894155,  0.41551395],\n",
      "       [-0.31454987, -1.01513597, -0.15024629, -0.27613176],\n",
      "       [-0.67740289,  0.8321138 , -1.97977488,  0.8707778 ]]), 'B1': array([[ 0.70030402, -0.0745594 ,  0.67669146,  0.60568766]]), 'W2': array([[10.7345305 ],\n",
      "       [10.96785622],\n",
      "       [10.87412546],\n",
      "       [11.05043224]]), 'B2': array([[11.06438256]])}\n"
     ]
    }
   ],
   "source": [
    "data = [[4, 5, 3, 4], [2, 3, 4, 1], [2, 5, 3, 5], [4, 2, 3, 1], [2, 13, 4, 6]]\n",
    "data2 = [[54], [45], [41], [42], [46]]\n",
    "data = np.array(data)\n",
    "data2 = np.array(data2)\n",
    "weights = train(data, data2)\n",
    "print(weights)"
   ]
  }
 ],
 "metadata": {
  "kernelspec": {
   "display_name": "Python 3",
   "language": "python",
   "name": "python3"
  },
  "language_info": {
   "codemirror_mode": {
    "name": "ipython",
    "version": 3
   },
   "file_extension": ".py",
   "mimetype": "text/x-python",
   "name": "python",
   "nbconvert_exporter": "python",
   "pygments_lexer": "ipython3",
   "version": "3.6.9"
  }
 },
 "nbformat": 4,
 "nbformat_minor": 4
}
